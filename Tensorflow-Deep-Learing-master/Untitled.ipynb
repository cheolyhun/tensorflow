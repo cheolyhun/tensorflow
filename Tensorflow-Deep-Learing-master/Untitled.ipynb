{
 "cells": [
  {
   "cell_type": "code",
   "execution_count": 8,
   "metadata": {},
   "outputs": [],
   "source": [
    "from bs4 import BeautifulSoup\n",
    "\n",
    "fp = open(\"D:/cheolhyun/workspace/Tensorflow-Deep-Learing-master/01_TextMining/data/01_Example.html\")\n",
    "soup = BeautifulSoup(fp, 'html.parser')"
   ]
  },
  {
   "cell_type": "code",
   "execution_count": 9,
   "metadata": {},
   "outputs": [
    {
     "data": {
      "text/plain": [
       "<!DOCTYPE html>\n",
       "\n",
       "<html>\n",
       "<head>\n",
       "<meta charset=\"utf-8\"/>\n",
       "<title>Web Crawling Example</title>\n",
       "</head>\n",
       "<body>\n",
       "<div>\n",
       "<p>a</p>\n",
       "<p>b</p>\n",
       "<p>c</p>\n",
       "</div>\n",
       "<div class=\"ex_class\">\n",
       "<p>1</p>\n",
       "<p>2</p>\n",
       "<p>3</p>\n",
       "</div>\n",
       "<div id=\"ex_id\">\n",
       "<p>X</p>\n",
       "<p>Y</p>\n",
       "<p>Z</p>\n",
       "</div>\n",
       "<h1>This is a heading.</h1>\n",
       "<p>This is a paragraph.</p>\n",
       "<p>This is another paragraph.</p>\n",
       "<a class=\"a\" href=\"www.naver.com\">Naver</a>\n",
       "</body>\n",
       "</html>"
      ]
     },
     "execution_count": 9,
     "metadata": {},
     "output_type": "execute_result"
    }
   ],
   "source": [
    "soup"
   ]
  },
  {
   "cell_type": "markdown",
   "metadata": {},
   "source": [
    "# 태그 이용해서 가져오기"
   ]
  },
  {
   "cell_type": "code",
   "execution_count": 12,
   "metadata": {},
   "outputs": [
    {
     "name": "stdout",
     "output_type": "stream",
     "text": [
      "<div>\n",
      "<p>a</p>\n",
      "<p>b</p>\n",
      "<p>c</p>\n",
      "</div>\n"
     ]
    }
   ],
   "source": [
    "first_div = soup.find(\"div\")\n",
    "print(first_div)"
   ]
  },
  {
   "cell_type": "code",
   "execution_count": 13,
   "metadata": {},
   "outputs": [
    {
     "name": "stdout",
     "output_type": "stream",
     "text": [
      "\n",
      "a\n",
      "b\n",
      "c\n",
      "\n"
     ]
    }
   ],
   "source": [
    "print(first_div.get_text())"
   ]
  },
  {
   "cell_type": "code",
   "execution_count": 14,
   "metadata": {},
   "outputs": [
    {
     "name": "stdout",
     "output_type": "stream",
     "text": [
      "[<div>\n",
      "<p>a</p>\n",
      "<p>b</p>\n",
      "<p>c</p>\n",
      "</div>, <div class=\"ex_class\">\n",
      "<p>1</p>\n",
      "<p>2</p>\n",
      "<p>3</p>\n",
      "</div>, <div id=\"ex_id\">\n",
      "<p>X</p>\n",
      "<p>Y</p>\n",
      "<p>Z</p>\n",
      "</div>]\n"
     ]
    }
   ],
   "source": [
    "all_div = soup.find_all(\"div\")\n",
    "print(all_div)\n",
    "## [ a , b , c]\n",
    "## 리스트 타입 결과"
   ]
  },
  {
   "cell_type": "code",
   "execution_count": 16,
   "metadata": {},
   "outputs": [
    {
     "data": {
      "text/plain": [
       "[<div>\n",
       " <p>a</p>\n",
       " <p>b</p>\n",
       " <p>c</p>\n",
       " </div>, <div class=\"ex_class\">\n",
       " <p>1</p>\n",
       " <p>2</p>\n",
       " <p>3</p>\n",
       " </div>]"
      ]
     },
     "execution_count": 16,
     "metadata": {},
     "output_type": "execute_result"
    }
   ],
   "source": [
    "all_div[:2]"
   ]
  },
  {
   "cell_type": "code",
   "execution_count": 17,
   "metadata": {},
   "outputs": [
    {
     "data": {
      "text/plain": [
       "[<div class=\"ex_class\">\n",
       " <p>1</p>\n",
       " <p>2</p>\n",
       " <p>3</p>\n",
       " </div>, <div id=\"ex_id\">\n",
       " <p>X</p>\n",
       " <p>Y</p>\n",
       " <p>Z</p>\n",
       " </div>]"
      ]
     },
     "execution_count": 17,
     "metadata": {},
     "output_type": "execute_result"
    }
   ],
   "source": [
    "all_div[1:]"
   ]
  },
  {
   "cell_type": "code",
   "execution_count": 18,
   "metadata": {},
   "outputs": [
    {
     "name": "stdout",
     "output_type": "stream",
     "text": [
      "<div>\n",
      "<p>a</p>\n",
      "<p>b</p>\n",
      "<p>c</p>\n",
      "</div>\n",
      "\n",
      "<div class=\"ex_class\">\n",
      "<p>1</p>\n",
      "<p>2</p>\n",
      "<p>3</p>\n",
      "</div>\n",
      "\n",
      "<div id=\"ex_id\">\n",
      "<p>X</p>\n",
      "<p>Y</p>\n",
      "<p>Z</p>\n",
      "</div>\n",
      "\n"
     ]
    }
   ],
   "source": [
    "for div in all_div :\n",
    "    print(div)\n",
    "    print()"
   ]
  },
  {
   "cell_type": "code",
   "execution_count": 19,
   "metadata": {},
   "outputs": [
    {
     "name": "stdout",
     "output_type": "stream",
     "text": [
      "\n",
      "a\n",
      "b\n",
      "c\n",
      "\n",
      "\n",
      "\n",
      "1\n",
      "2\n",
      "3\n",
      "\n",
      "\n",
      "\n",
      "X\n",
      "Y\n",
      "Z\n",
      "\n",
      "\n"
     ]
    }
   ],
   "source": [
    "for div in all_div :\n",
    "    print(div.get_text())\n",
    "    print()"
   ]
  },
  {
   "cell_type": "code",
   "execution_count": 20,
   "metadata": {},
   "outputs": [
    {
     "name": "stdout",
     "output_type": "stream",
     "text": [
      "[<p>a</p>, <p>b</p>, <p>c</p>, <p>1</p>, <p>2</p>, <p>3</p>, <p>X</p>, <p>Y</p>, <p>Z</p>, <p>This is a paragraph.</p>, <p>This is another paragraph.</p>]\n"
     ]
    }
   ],
   "source": [
    "all_ps = soup.find_all(\"p\")\n",
    "print(all_ps)"
   ]
  },
  {
   "cell_type": "code",
   "execution_count": 22,
   "metadata": {},
   "outputs": [
    {
     "name": "stdout",
     "output_type": "stream",
     "text": [
      "<p>a</p> a\n",
      "<p>b</p> b\n",
      "<p>c</p> c\n",
      "<p>1</p> 1\n",
      "<p>2</p> 2\n",
      "<p>3</p> 3\n",
      "<p>X</p> X\n",
      "<p>Y</p> Y\n",
      "<p>Z</p> Z\n",
      "<p>This is a paragraph.</p> This is a paragraph.\n",
      "<p>This is another paragraph.</p> This is another paragraph.\n"
     ]
    }
   ],
   "source": [
    "for single_p in all_ps :\n",
    "    print(single_p, single_p.get_text())"
   ]
  },
  {
   "cell_type": "code",
   "execution_count": 23,
   "metadata": {},
   "outputs": [
    {
     "name": "stdout",
     "output_type": "stream",
     "text": [
      "<div id=\"ex_id\">\n",
      "<p>X</p>\n",
      "<p>Y</p>\n",
      "<p>Z</p>\n",
      "</div>\n"
     ]
    }
   ],
   "source": [
    "ex_id_divs = soup.find('div',{'id' : 'ex_id'})\n",
    "print(ex_id_divs)"
   ]
  },
  {
   "cell_type": "code",
   "execution_count": 25,
   "metadata": {},
   "outputs": [
    {
     "name": "stdout",
     "output_type": "stream",
     "text": [
      "<div id=\"ex_id\">\n",
      "<p>X</p>\n",
      "<p>Y</p>\n",
      "<p>Z</p>\n",
      "</div>\n"
     ]
    }
   ],
   "source": [
    "ex_id_divs = soup.find('div',id = 'ex_id')\n",
    "print(ex_id_divs)"
   ]
  },
  {
   "cell_type": "code",
   "execution_count": 26,
   "metadata": {},
   "outputs": [
    {
     "name": "stdout",
     "output_type": "stream",
     "text": [
      "<div class=\"ex_class\">\n",
      "<p>1</p>\n",
      "<p>2</p>\n",
      "<p>3</p>\n",
      "</div>\n"
     ]
    }
   ],
   "source": [
    "result = soup.find('div',{'class' : 'ex_class'})\n",
    "print(result)"
   ]
  },
  {
   "cell_type": "code",
   "execution_count": 28,
   "metadata": {},
   "outputs": [
    {
     "name": "stdout",
     "output_type": "stream",
     "text": [
      "<div class=\"ex_class\">\n",
      "<p>1</p>\n",
      "<p>2</p>\n",
      "<p>3</p>\n",
      "</div>\n"
     ]
    }
   ],
   "source": [
    "result = soup.find('div',class_ = 'ex_class')\n",
    "print(result)\n",
    "#class 가 기본 파이썬 syntax라서 class를 = 로 찾을 때 class_로 검색하기 "
   ]
  },
  {
   "cell_type": "markdown",
   "metadata": {},
   "source": [
    "# html 구조로 가져오기"
   ]
  },
  {
   "cell_type": "code",
   "execution_count": 34,
   "metadata": {},
   "outputs": [
    {
     "name": "stdout",
     "output_type": "stream",
     "text": [
      "[<p>X</p>, <p>Y</p>, <p>Z</p>]\n"
     ]
    }
   ],
   "source": [
    "ex_id_divs = soup.find(\"div\",{\"id\":\"ex_id\"})\n",
    "all_ps_in_ex_id_divs = ex_id_divs.find_all(\"p\")\n",
    "print(all_ps_in_ex_id_divs)"
   ]
  },
  {
   "cell_type": "code",
   "execution_count": 42,
   "metadata": {},
   "outputs": [
    {
     "name": "stdout",
     "output_type": "stream",
     "text": [
      "<p>X</p>\n",
      "X\n"
     ]
    }
   ],
   "source": [
    "first_p = ex_id_divs.find('p')\n",
    "print(first_p)\n",
    "print(first_p.get_text())"
   ]
  },
  {
   "cell_type": "code",
   "execution_count": 48,
   "metadata": {},
   "outputs": [
    {
     "name": "stdout",
     "output_type": "stream",
     "text": [
      "<a class=\"a\" href=\"www.naver.com\">Naver</a>\n",
      "Naver\n"
     ]
    }
   ],
   "source": [
    "a = soup.find(\"a\")\n",
    "print(a)\n",
    "#<a class=\"a\" href=\"www.naver.com\">Naver</a>\n",
    "#a 태그는 <a ~ > 시작 </a> 끝\n",
    "#a 태그안에 값은 Naver 하나\n",
    "print(a.get_text())"
   ]
  },
  {
   "cell_type": "code",
   "execution_count": 52,
   "metadata": {},
   "outputs": [
    {
     "name": "stdout",
     "output_type": "stream",
     "text": [
      "www.naver.com\n"
     ]
    }
   ],
   "source": [
    "print(a['href'])"
   ]
  },
  {
   "cell_type": "code",
   "execution_count": 51,
   "metadata": {},
   "outputs": [
    {
     "name": "stdout",
     "output_type": "stream",
     "text": [
      "Naver :  www.naver.com\n"
     ]
    }
   ],
   "source": [
    "print(a.get_text(),': ',a['href'])"
   ]
  },
  {
   "cell_type": "code",
   "execution_count": 54,
   "metadata": {},
   "outputs": [],
   "source": [
    "fp.close()"
   ]
  },
  {
   "cell_type": "code",
   "execution_count": null,
   "metadata": {},
   "outputs": [],
   "source": []
  }
 ],
 "metadata": {
  "kernelspec": {
   "display_name": "Python 3",
   "language": "python",
   "name": "python3"
  },
  "language_info": {
   "codemirror_mode": {
    "name": "ipython",
    "version": 3
   },
   "file_extension": ".py",
   "mimetype": "text/x-python",
   "name": "python",
   "nbconvert_exporter": "python",
   "pygments_lexer": "ipython3",
   "version": "3.7.3"
  }
 },
 "nbformat": 4,
 "nbformat_minor": 2
}
